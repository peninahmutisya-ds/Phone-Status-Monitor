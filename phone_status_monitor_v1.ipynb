{
 "cells": [
  {
   "cell_type": "markdown",
   "id": "85f4de07-f381-47dc-bcba-abcbf133a95a",
   "metadata": {},
   "source": [
    "# Overview of Object Oriented Programming (OOP)"
   ]
  },
  {
   "cell_type": "markdown",
   "id": "5bf1cf0c-7855-4b0b-b6a4-579ce9437763",
   "metadata": {},
   "source": [
    "OOP is a way of organising programs around an objects \n"
   ]
  },
  {
   "cell_type": "markdown",
   "id": "665efdb5-2395-4dbb-bf0f-4dd834e53eb6",
   "metadata": {},
   "source": [
    "- **Class:** The blueprint for creating objects\n",
    "- **Object:** A specific instance created from a class.\n",
    "- **Attributes:** The data that belongs to an object.\n",
    "- **Methods:** The actions or behaviours the object can perform."
   ]
  },
  {
   "cell_type": "markdown",
   "id": "c5da7144-d642-4d6e-8ea0-bf5c6f621eed",
   "metadata": {},
   "source": [
    "## House Analogy"
   ]
  },
  {
   "cell_type": "markdown",
   "id": "d1c830ad-df88-4ed7-94ff-c61a87477d2d",
   "metadata": {},
   "source": [
    "- **Class:** The architectural design/plan\n",
    "- **Object:** A house, the house, the building\n",
    "- **Attributes:** The properties of the object/house\n",
    "  - windows\n",
    "  - doors\n",
    "  - colour of the house\n",
    "  - rooms\n",
    "  - etc...\n",
    "- **Methods:** THe actions the house/object can perform\n",
    "  - Door open and close\n",
    "  - Accomodate\n",
    "  - Doorbell ring\n",
    "  - etc.."
   ]
  },
  {
   "cell_type": "markdown",
   "id": "31dc8e41-e72d-41df-8c65-307b81c72571",
   "metadata": {},
   "source": [
    "## Car Analogy"
   ]
  },
  {
   "cell_type": "markdown",
   "id": "756ca8a2-db94-4b85-9a10-986fb808e72a",
   "metadata": {},
   "source": [
    "- **Class:** Car model design (e.g Toyota, Honda, Mercedes, KiA)\n",
    "- **Object:** An instance of the class i.e a specific car. the car itself (Toyota hilux, corlla, camry etc)\n",
    "- **Attributes:** Car's properties: engine, tires, colour, body, Horsepower etc.\n",
    "- **Methods:** What the car can do, accelerate, reverse, brake, drift , horn, hoot etc"
   ]
  },
  {
   "cell_type": "markdown",
   "id": "67c30cb6-26f1-4be1-9520-3ccac23a39cf",
   "metadata": {},
   "source": [
    "## Person Analogy"
   ]
  },
  {
   "cell_type": "markdown",
   "id": "e79ccb35-5ab7-4407-a1b3-a2b5cde773c3",
   "metadata": {},
   "source": [
    "- **Class:** Human  Homosapiens\n",
    "- **Object:** The persons (Male / Female), the people\n",
    "- **Attributes:** Colour, height, weight, size, shape, nationality age, race\n",
    "- **Methods:** walk, cry, speak, sleep, run"
   ]
  },
  {
   "cell_type": "markdown",
   "id": "198b1faf-6dce-43a8-8f8e-893c4ff3e263",
   "metadata": {},
   "source": [
    "Let's create the \"perfect Human\""
   ]
  },
  {
   "cell_type": "code",
   "execution_count": 1,
   "id": "c395fd2f-2a9f-400f-a978-cd32251529e3",
   "metadata": {},
   "outputs": [],
   "source": [
    "age = 24"
   ]
  },
  {
   "cell_type": "code",
   "execution_count": 2,
   "id": "fae9de55-4e62-4646-8145-136f4852d4e3",
   "metadata": {},
   "outputs": [
    {
     "name": "stdout",
     "output_type": "stream",
     "text": [
      "I am 24 years old\n"
     ]
    }
   ],
   "source": [
    "print(\"I am\", age, \"years old\")"
   ]
  },
  {
   "cell_type": "code",
   "execution_count": 3,
   "id": "45e51a9f-4a19-4576-9395-dcd8daea71d2",
   "metadata": {},
   "outputs": [
    {
     "name": "stdout",
     "output_type": "stream",
     "text": [
      "I am 24 years old\n"
     ]
    }
   ],
   "source": [
    "print(f\"I am {age} years old\")"
   ]
  },
  {
   "cell_type": "code",
   "execution_count": null,
   "id": "be9bd03a-07bb-4992-8559-ce8a56ed7402",
   "metadata": {},
   "outputs": [],
   "source": []
  },
  {
   "cell_type": "code",
   "execution_count": 4,
   "id": "ba003ddb-2cdd-4895-ab82-6241c610b7ae",
   "metadata": {},
   "outputs": [],
   "source": [
    "class Human: #class called human \n",
    "\n",
    "    def __init__(self, name, age, height): \n",
    "        #instance (object) attributes\n",
    "        \n",
    "        self.name = name\n",
    "        self.age = age\n",
    "        self.height = height\n",
    "        \n",
    "    #instance behaviours (method)\n",
    "    \n",
    "    def walk(self):  \n",
    "        print(f\"{self.name} is walking\")\n",
    "\n",
    "    def talk(self):\n",
    "        print(f\"{self.name} is talking\")\n",
    "\n",
    "    def eat(self):\n",
    "        print(f\"{self.name} is eating\")"
   ]
  },
  {
   "cell_type": "code",
   "execution_count": 5,
   "id": "05a40c9c-5d92-487e-b97e-954b69be48f9",
   "metadata": {},
   "outputs": [],
   "source": [
    "# creating instance (object) of the Human class\n",
    "jim = Human(\"Jim\", 78, 160)"
   ]
  },
  {
   "cell_type": "code",
   "execution_count": 6,
   "id": "8559af74-9fb5-4169-a58f-9e87d4af7bbf",
   "metadata": {},
   "outputs": [
    {
     "name": "stdout",
     "output_type": "stream",
     "text": [
      "Jim is eating\n"
     ]
    }
   ],
   "source": [
    "#accessing the object behaviour : eat\n",
    "jim.eat()"
   ]
  },
  {
   "cell_type": "code",
   "execution_count": 7,
   "id": "a72f655a-224c-4206-88d5-c8e8e59ca959",
   "metadata": {},
   "outputs": [
    {
     "name": "stdout",
     "output_type": "stream",
     "text": [
      "Jim is walking\n"
     ]
    }
   ],
   "source": [
    "#accessing the object behaviour : walk\n",
    "jim.walk()"
   ]
  },
  {
   "cell_type": "code",
   "execution_count": 8,
   "id": "a1be14b2-d412-47e4-add8-62ea19dd158f",
   "metadata": {},
   "outputs": [
    {
     "name": "stdout",
     "output_type": "stream",
     "text": [
      "Jim is talking\n"
     ]
    }
   ],
   "source": [
    "#accessing the object behaviour : talk\n",
    "jim.talk()"
   ]
  },
  {
   "cell_type": "code",
   "execution_count": 9,
   "id": "3e7e7a9b-9567-435a-b5a7-eec7390e0f7a",
   "metadata": {},
   "outputs": [
    {
     "name": "stdout",
     "output_type": "stream",
     "text": [
      "My name is Jim.\n",
      "I am 78 years old.\n",
      "I am 160 cm tall\n"
     ]
    }
   ],
   "source": [
    "#accessing the object's attributes\n",
    "print(f\"My name is {jim.name}.\")\n",
    "print(f\"I am {jim.age} years old.\")\n",
    "print(f\"I am {jim.height} cm tall\")"
   ]
  },
  {
   "cell_type": "code",
   "execution_count": 10,
   "id": "0a5ce013-00a8-440b-ac31-689dcba875e0",
   "metadata": {},
   "outputs": [],
   "source": [
    "sarah = Human(\"Sarah\", 24, 178)"
   ]
  },
  {
   "cell_type": "code",
   "execution_count": 11,
   "id": "743eb135-b63f-4057-880b-c6fc4a778f19",
   "metadata": {},
   "outputs": [],
   "source": [
    "henry = Human(\"Henry\", 30, 180)"
   ]
  },
  {
   "cell_type": "code",
   "execution_count": 12,
   "id": "ed7fed14-05b9-4106-ad03-7e7e18cb78f0",
   "metadata": {},
   "outputs": [
    {
     "data": {
      "text/plain": [
       "30"
      ]
     },
     "execution_count": 12,
     "metadata": {},
     "output_type": "execute_result"
    }
   ],
   "source": [
    "henry.age"
   ]
  },
  {
   "cell_type": "code",
   "execution_count": 13,
   "id": "043a7d33-f97e-4d6d-80b8-b04750aa6608",
   "metadata": {},
   "outputs": [
    {
     "data": {
      "text/plain": [
       "178"
      ]
     },
     "execution_count": 13,
     "metadata": {},
     "output_type": "execute_result"
    }
   ],
   "source": [
    "sarah.height"
   ]
  },
  {
   "cell_type": "markdown",
   "id": "71987957-690f-4881-9d34-bf97cb900356",
   "metadata": {},
   "source": [
    "# Phone Statuse Monitor"
   ]
  },
  {
   "cell_type": "markdown",
   "id": "eee75f54-86a1-4116-8dcb-61faa6e0a568",
   "metadata": {},
   "source": [
    "- class > blueprint of the phone\n",
    "- object > instance of the phone\n",
    "- Attributes >\n",
    "  - battery\n",
    "  - data\n",
    "  - messages\n",
    "  - network signal\n",
    "  - storage\n",
    "  - Airtime\n",
    "  - etc...\n",
    "- Methods\n",
    "  - call\n",
    "  - browse\n",
    "  - Text\n",
    "  - take picture\n",
    "  - make video\n",
    "  - record\n",
    "  - etc..."
   ]
  },
  {
   "cell_type": "code",
   "execution_count": 14,
   "id": "9743bc33-a672-41d4-bb36-0ad5ee233ce2",
   "metadata": {},
   "outputs": [],
   "source": [
    "class Phone:\n",
    "\n",
    "    # attributes/data\n",
    "    def __init__(self, owner, battery, airtime, data_mb):\n",
    "        self.owner = owner\n",
    "        self.battery = battery\n",
    "        self.airtime = airtime\n",
    "        self.data_mb = data_mb\n",
    "\n",
    "    # Methods/Actions\n",
    "    def charge(self, percent_charge):\n",
    "        self.battery = self.battery + percent_charge\n",
    "\n",
    "    def make_a_call(self, call_duration):\n",
    "        call_cost = call_duration * 2\n",
    "        self.airtime = self.airtime - call_cost\n",
    "\n",
    "    def browse(self, stream_time):\n",
    "        browse_cost = stream_time * 0.05\n",
    "        self.data_mb = self.data_mb - browse_cost\n",
    "\n",
    "    #def buy_data_from_airtime(self):"
   ]
  },
  {
   "cell_type": "code",
   "execution_count": null,
   "id": "19dd9587-aca1-4ce0-8ebb-7b8a34ca5b3c",
   "metadata": {},
   "outputs": [],
   "source": []
  },
  {
   "cell_type": "code",
   "execution_count": 15,
   "id": "eee29274-05c3-493d-80ba-1e4248f809fa",
   "metadata": {},
   "outputs": [],
   "source": [
    "#creating object \n",
    "toli_phone = Phone(\"Toli\", 30, 400, 5000)"
   ]
  },
  {
   "cell_type": "code",
   "execution_count": 16,
   "id": "421aaa65-9313-4cc0-a3e6-1c795dc2be2f",
   "metadata": {},
   "outputs": [
    {
     "data": {
      "text/plain": [
       "30"
      ]
     },
     "execution_count": 16,
     "metadata": {},
     "output_type": "execute_result"
    }
   ],
   "source": [
    "#checking our phones battery\n",
    "toli_phone.battery"
   ]
  },
  {
   "cell_type": "code",
   "execution_count": 17,
   "id": "8189f54b-682f-433f-931e-4dcc93f672a8",
   "metadata": {},
   "outputs": [
    {
     "data": {
      "text/plain": [
       "45"
      ]
     },
     "execution_count": 17,
     "metadata": {},
     "output_type": "execute_result"
    }
   ],
   "source": [
    "#checking our phones battery after a charge of 15%\n",
    "toli_phone.charge(15)\n",
    "toli_phone.battery"
   ]
  },
  {
   "cell_type": "code",
   "execution_count": 18,
   "id": "790e8ef1-fa24-4b38-9c40-603bfc5b86d1",
   "metadata": {},
   "outputs": [
    {
     "data": {
      "text/plain": [
       "400"
      ]
     },
     "execution_count": 18,
     "metadata": {},
     "output_type": "execute_result"
    }
   ],
   "source": [
    "#accessing our phones airtime\n",
    "toli_phone.airtime"
   ]
  },
  {
   "cell_type": "code",
   "execution_count": 19,
   "id": "217262b2-acd2-41de-bde9-db63b2e64c9a",
   "metadata": {},
   "outputs": [],
   "source": [
    "#making a phone call costing 60 minutes of airtime\n",
    "toli_phone.make_a_call(60)"
   ]
  },
  {
   "cell_type": "code",
   "execution_count": 20,
   "id": "d7069831-cc11-4be1-a0ef-4f4785161194",
   "metadata": {},
   "outputs": [
    {
     "data": {
      "text/plain": [
       "280"
      ]
     },
     "execution_count": 20,
     "metadata": {},
     "output_type": "execute_result"
    }
   ],
   "source": [
    "# airtime balance after call\n",
    "toli_phone.airtime"
   ]
  },
  {
   "cell_type": "code",
   "execution_count": 21,
   "id": "047facf5-4547-436e-9b8c-0d10fc2b7734",
   "metadata": {},
   "outputs": [
    {
     "data": {
      "text/plain": [
       "5000"
      ]
     },
     "execution_count": 21,
     "metadata": {},
     "output_type": "execute_result"
    }
   ],
   "source": [
    "#checking our data bundles\n",
    "toli_phone.data_mb"
   ]
  },
  {
   "cell_type": "code",
   "execution_count": 22,
   "id": "6441280a-c903-436d-8a3e-3dcf369fa042",
   "metadata": {},
   "outputs": [],
   "source": [
    "#browsing \n",
    "toli_phone.browse(3600)"
   ]
  },
  {
   "cell_type": "code",
   "execution_count": 23,
   "id": "b465b02c-062f-4e6a-a020-ef00b1695ea9",
   "metadata": {},
   "outputs": [
    {
     "data": {
      "text/plain": [
       "4820.0"
      ]
     },
     "execution_count": 23,
     "metadata": {},
     "output_type": "execute_result"
    }
   ],
   "source": [
    "#checking our data bundle balance\n",
    "toli_phone.data_mb"
   ]
  },
  {
   "cell_type": "code",
   "execution_count": null,
   "id": "59be7382-8ad3-485c-8e7d-92858b78f464",
   "metadata": {},
   "outputs": [],
   "source": []
  }
 ],
 "metadata": {
  "kernelspec": {
   "display_name": "Python 3 (ipykernel)",
   "language": "python",
   "name": "python3"
  },
  "language_info": {
   "codemirror_mode": {
    "name": "ipython",
    "version": 3
   },
   "file_extension": ".py",
   "mimetype": "text/x-python",
   "name": "python",
   "nbconvert_exporter": "python",
   "pygments_lexer": "ipython3",
   "version": "3.13.5"
  }
 },
 "nbformat": 4,
 "nbformat_minor": 5
}
