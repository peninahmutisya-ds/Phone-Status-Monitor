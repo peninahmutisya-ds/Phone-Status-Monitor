{
 "cells": [
  {
   "cell_type": "markdown",
   "id": "87c6b8c8-37eb-4d9a-ae2f-15d34616fd67",
   "metadata": {},
   "source": [
    "# 📱 Phone Status Monitor Simulator  \n",
    "\n",
    "This project is a **Python OOP simulation** of a mobile phone that keeps track of its **battery, balance, and data**.  \n",
    "It allows you to perform everyday phone actions and see how the phone’s state changes in real time.  \n",
    "\n",
    "---\n",
    "\n",
    "## 🔑 Key Features  \n",
    "- **Battery Monitoring** → charge the phone (by time or percent).  \n",
    "- **Balance Tracking** → top up in dollars and use it for calls or data.  \n",
    "- **Data Management** → buy data bundles with balance.  \n",
    "- **Call Simulation** → make calls that reduce balance and battery.  \n",
    "- **Browsing Simulation** → browse the internet based on duration and profile:  \n",
    "  - *Light* (chatting, light apps)  \n",
    "  - *Normal* (social media)  \n",
    "  - *Heavy* (video streaming)  \n",
    "- **Status Display** → check the phone’s current state with a simple battery bar.  \n",
    "\n",
    "---\n",
    "\n",
    "## 🎯 Learning Goals  \n",
    "This project helps you understand **Object-Oriented Programming (OOP)** in Python by showing how:  \n",
    "- **Classes** act as blueprints.  \n",
    "- **Objects** represent real things (your phone).  \n",
    "- **Attributes** store state (battery, balance, data).  \n",
    "- **Methods** define actions (charge, call, browse).  \n"
   ]
  },
  {
   "cell_type": "code",
   "execution_count": 1,
   "id": "037be7d1-67a9-4579-8df6-551f21ccd463",
   "metadata": {},
   "outputs": [],
   "source": [
    "# --- Phone Status Monitor Simulator (improved OOP) ---\n",
    "\n",
    "class Phone:\n",
    "    # ===== Configurable \"tariffs\" / rates =====\n",
    "    CURRENCY = \"$\"\n",
    "    DATA_MB_PER_DOLLAR = 2          # $1 -> 2 MB\n",
    "    CALL_COST_PER_MIN = 1.0         # $ per minute\n",
    "    CALL_BATTERY_PER_MIN = 1        # % battery per minute on call 2\n",
    "\n",
    "    # Browsing profiles: data+ battery usage per minute\n",
    "    BROWSE_PROFILES = {\n",
    "        \"light\":  {\"mb_per_min\": 2,  \"battery_per_min\": 0.5},  # chats, light apps \n",
    "        \"normal\": {\"mb_per_min\": 5,  \"battery_per_min\": 1},  # social media \n",
    "        \"heavy\":  {\"mb_per_min\": 20, \"battery_per_min\": 2},  # streaming/video \n",
    "    }\n",
    "\n",
    "    CHARGE_RATE_PER_MIN = 1.0       # % battery per minute on charger\n",
    "\n",
    "    def __init__(self, owner, battery=50, balance=0.0, data_mb=0):\n",
    "        self.owner = owner\n",
    "        self.battery = int(battery)    # 0–100\n",
    "        self.balance = float(balance)  # dollars\n",
    "        self.data_mb = int(data_mb)    # megabytes\n",
    "\n",
    "    # ===== Helpers =====\n",
    "    def _cap_battery(self):\n",
    "        self.battery = max(0, min(100, int(self.battery)))\n",
    "\n",
    "    def _require(self, cond, msg):\n",
    "        if not cond:\n",
    "            print(f\"⚠️  {msg}\")\n",
    "            return False\n",
    "        return True\n",
    "\n",
    "    def _bar(self, value, max_value=100, width=20):\n",
    "        # simple text progress bar for nicer status\n",
    "        filled = int(round((value / max_value) * width))\n",
    "        return \"[\" + \"█\" * filled + \"·\" * (width - filled) + \"]\"\n",
    "\n",
    "    # ===== Actions =====\n",
    "    def charge(self, minutes=None, percent=None):\n",
    "        \"\"\"\n",
    "        Charge by time (preferred for realism) or by raw percent.\n",
    "        \"\"\"\n",
    "        if minutes is not None:\n",
    "            if not self._require(minutes > 0, \"Charge minutes must be > 0.\"):\n",
    "                return\n",
    "            self.battery += minutes * self.CHARGE_RATE_PER_MIN\n",
    "        elif percent is not None:\n",
    "            if not self._require(percent > 0, \"Charge percent must be > 0.\"):\n",
    "                return\n",
    "            self.battery += percent\n",
    "        else:\n",
    "            print(\"⚠️  Provide either minutes= or percent= to charge().\")\n",
    "            return\n",
    "        self._cap_battery()\n",
    "        print(f\"🔌 Charging... Battery: {self.battery}% {self._bar(self.battery)}\")\n",
    "\n",
    "    def top_up(self, amount):\n",
    "        if not self._require(amount > 0, \"Top-up amount must be > 0.\"):\n",
    "            return\n",
    "        self.balance += amount\n",
    "        print(f\"💳 Topped up {self.CURRENCY}{amount:.2f}. Balance: {self.CURRENCY}{self.balance:.2f}\")\n",
    "\n",
    "    def buy_data(self, dollars):\n",
    "        if not self._require(dollars > 0, \"Purchase must be > 0.\"):\n",
    "            return\n",
    "        if not self._require(dollars <= self.balance, \"Not enough balance to buy data.\"):\n",
    "            return\n",
    "        self.balance -= dollars\n",
    "        gained = int(dollars * self.DATA_MB_PER_DOLLAR)\n",
    "        self.data_mb += gained\n",
    "        print(f\"📶 Bought {gained}MB. Data: {self.data_mb}MB | Balance: {self.CURRENCY}{self.balance:.2f}\")\n",
    "\n",
    "    def call(self, minutes):\n",
    "        if not self._require(minutes > 0, \"Call minutes must be > 0.\"):\n",
    "            return\n",
    "        cost = minutes * self.CALL_COST_PER_MIN\n",
    "        battery_use = minutes * self.CALL_BATTERY_PER_MIN\n",
    "\n",
    "        if not self._require(cost <= self.balance, \"Call failed: not enough balance.\"):\n",
    "            return\n",
    "        if not self._require(battery_use <= self.battery, \"Call failed: low battery.\"):\n",
    "            return\n",
    "\n",
    "        self.balance -= cost\n",
    "        self.battery -= battery_use\n",
    "        self._cap_battery()\n",
    "        print(f\"📞 Called {minutes} min. \"\n",
    "              f\"Balance: {self.CURRENCY}{self.balance:.2f} | Battery: {self.battery}% {self._bar(self.battery)}\")\n",
    "\n",
    "    def browse(self, minutes, profile=\"normal\"):\n",
    "        \"\"\"\n",
    "        Duration-based browsing.\n",
    "        - minutes: how long online\n",
    "        - profile: 'light' | 'normal' | 'heavy' (controls MB + battery per minute)\n",
    "        \"\"\"\n",
    "        if not self._require(minutes > 0, \"Browse minutes must be > 0.\"):\n",
    "            return\n",
    "        if profile not in self.BROWSE_PROFILES:\n",
    "            print(f\"⚠️  Unknown profile '{profile}'. Use one of: {list(self.BROWSE_PROFILES)}\")\n",
    "            return\n",
    "\n",
    "        mb_per_min = self.BROWSE_PROFILES[profile][\"mb_per_min\"]\n",
    "        batt_per_min = self.BROWSE_PROFILES[profile][\"battery_per_min\"]\n",
    "\n",
    "        need_mb = minutes * mb_per_min\n",
    "        need_batt = minutes * batt_per_min\n",
    "\n",
    "        if not self._require(need_mb <= self.data_mb, \"Browse failed: not enough data.\"):\n",
    "            return\n",
    "        if not self._require(need_batt <= self.battery, \"Browse failed: low battery.\"):\n",
    "            return\n",
    "\n",
    "        self.data_mb -= need_mb\n",
    "        self.battery -= need_batt\n",
    "        self._cap_battery()\n",
    "        print(f\"🌐 Browsed {minutes} min ({profile}). \"\n",
    "              f\"Used {need_mb}MB, {need_batt}% battery. \"\n",
    "              f\"Data: {self.data_mb}MB | Battery: {self.battery}% {self._bar(self.battery)}\")\n",
    "\n",
    "    def status(self):\n",
    "        print(\n",
    "            f\"📱 {self.owner}'s Phone\\n\"\n",
    "            f\"   Battery: {self.battery}% {self._bar(self.battery)}\\n\"\n",
    "            f\"   Balance: {self.CURRENCY}{self.balance:.2f}\\n\"\n",
    "            f\"   Data:    {self.data_mb}MB\"\n",
    "        )\n",
    "\n"
   ]
  },
  {
   "cell_type": "code",
   "execution_count": null,
   "id": "1e6a4b13-1d5d-4623-981e-80af79a3937c",
   "metadata": {},
   "outputs": [],
   "source": []
  },
  {
   "cell_type": "markdown",
   "id": "eb7a3b88-8d60-4637-bb0d-055cf7b8d860",
   "metadata": {},
   "source": [
    "## 📱 Functionalities of the `Phone` Class\n",
    "\n",
    "The `Phone` class simulates a mobile phone with the following functionalities:\n",
    "\n",
    "- **Status**\n",
    "  - Display the current phone state: battery %, balance ($), and data (MB).\n",
    "  - Includes a simple battery progress bar.\n",
    "\n",
    "- **Charge**\n",
    "  - Charge the phone by **minutes** (realistic charging).\n",
    "  - Optionally charge by **percentage**.\n",
    "  - Battery is capped between 0% and 100%.\n",
    "\n",
    "- **Top Up**\n",
    "  - Add balance in **dollars ($)**.\n",
    "\n",
    "- **Buy Data**\n",
    "  - Use balance to purchase data bundles.\n",
    "  - Conversion rate: **$1 → 2 MB** (default).\n",
    "\n",
    "- **Call**\n",
    "  - Make calls for a given number of minutes.\n",
    "  - Reduces **balance** ($1 per minute).\n",
    "  - Consumes **battery** (2% per minute).\n",
    "  - Fails if balance or battery is insufficient.\n",
    "\n",
    "- **Browse**\n",
    "  - Browse online for a given duration (minutes).\n",
    "  - Choose a **profile**:  \n",
    "    - *Light* → 2 MB/min, 1% battery/min  \n",
    "    - *Normal* → 5 MB/min, 2% battery/min  \n",
    "    - *Heavy* → 20 MB/min, 4% battery/min  \n",
    "  - Reduces **data** and **battery** accordingly.\n",
    "  - Fails if data or battery is insufficient.\n"
   ]
  },
  {
   "cell_type": "markdown",
   "id": "e01eb95a-9695-46c5-872e-effb29795841",
   "metadata": {},
   "source": [
    "## 📱 Functionalities of the `Phone` Class and How to Call Them\n",
    "\n",
    "### 1. Check Status\n",
    "See the phone’s current battery, balance, and data.\n",
    "\n",
    "```python\n",
    "my_phone.status()\n",
    "```\n",
    "\n",
    "### 2. Charge the Phone\n",
    "\n",
    "Increase the battery (capped at 100%).\n",
    "\n",
    "- By minutes (realistic charging):\n",
    "\n",
    "```python\n",
    "my_phone.charge(minutes=20)\n",
    "```\n",
    "\n",
    "```python\n",
    "my_phone.charge(percent=30)\n",
    "```\n",
    "\n",
    "### 3. Top Up Balance\n",
    "\n",
    "Add money (in dollars) to your balance.\n",
    "```python\n",
    "my_phone.top_up(10)   # adds $10\n",
    "```\n",
    "\n",
    "\n",
    "### 4. Buy Data\n",
    "\n",
    "Use balance to buy data bundles.\n",
    "\n",
    "Rate: $1 → 2 MB\n",
    "```python\n",
    "my_phone.buy_data(5)   # uses $5 → adds 10MB\n",
    "```\n",
    "\n",
    "### 5. Make a Call\n",
    "\n",
    "Spend balance and battery based on call duration.\n",
    "\n",
    "- Cost: $1 per minute\n",
    "\n",
    "- Battery: 2% per minute\n",
    "\n",
    "```python\n",
    "my_phone.call(3)   # 3-minute call → costs $3, uses 6% battery\n",
    "```\n",
    "\n",
    "### 6. Browse the Internet\n",
    "\n",
    "Use data and battery for a set duration (minutes).\n",
    "\n",
    "Choose a profile: \"light\", \"normal\", \"heavy\"\n",
    "\n",
    "- Light → 2 MB/min, 1% battery/min\n",
    "\n",
    "- Normal → 5 MB/min, 2% battery/min\n",
    "\n",
    "- Heavy → 20 MB/min, 4% battery/min\n",
    "\n",
    "```python\n",
    "my_phone.browse(10, profile=\"normal\")   # 10 min normal browsing\n",
    "my_phone.browse(5, profile=\"heavy\")     # 5 min heavy browsing\n",
    "```"
   ]
  },
  {
   "cell_type": "code",
   "execution_count": 2,
   "id": "3d35f60c-15e9-44dc-acbd-ebd24fa8f888",
   "metadata": {},
   "outputs": [],
   "source": [
    "my_phone = Phone(\"Zibah\", battery=45, balance=780, data_mb=3500)"
   ]
  },
  {
   "cell_type": "code",
   "execution_count": 3,
   "id": "e6073be1-0d74-4053-8246-d71a758d6e01",
   "metadata": {},
   "outputs": [
    {
     "name": "stdout",
     "output_type": "stream",
     "text": [
      "📱 Zibah's Phone\n",
      "   Battery: 45% [█████████···········]\n",
      "   Balance: $780.00\n",
      "   Data:    3500MB\n"
     ]
    }
   ],
   "source": [
    "my_phone.status()"
   ]
  },
  {
   "cell_type": "code",
   "execution_count": 4,
   "id": "6cf690e2-59c4-4025-b0fd-27c6a98e3e34",
   "metadata": {},
   "outputs": [
    {
     "name": "stdout",
     "output_type": "stream",
     "text": [
      "📶 Bought 30MB. Data: 3530MB | Balance: $765.00\n"
     ]
    }
   ],
   "source": [
    "my_phone.buy_data(15)"
   ]
  },
  {
   "cell_type": "code",
   "execution_count": 5,
   "id": "01d3ca00-072b-48cd-9834-17c990b19bc1",
   "metadata": {},
   "outputs": [
    {
     "name": "stdout",
     "output_type": "stream",
     "text": [
      "📱 Zibah's Phone\n",
      "   Battery: 45% [█████████···········]\n",
      "   Balance: $765.00\n",
      "   Data:    3530MB\n"
     ]
    }
   ],
   "source": [
    "my_phone.status()"
   ]
  },
  {
   "cell_type": "code",
   "execution_count": 6,
   "id": "aaf1a394-3fa8-4bab-8b60-84ae280f93f6",
   "metadata": {},
   "outputs": [
    {
     "name": "stdout",
     "output_type": "stream",
     "text": [
      "📞 Called 4 min. Balance: $761.00 | Battery: 41% [████████············]\n"
     ]
    }
   ],
   "source": [
    "my_phone.call(4)"
   ]
  },
  {
   "cell_type": "code",
   "execution_count": 7,
   "id": "c6e62335-32c1-4534-8a16-c95d8a6e11a1",
   "metadata": {},
   "outputs": [
    {
     "name": "stdout",
     "output_type": "stream",
     "text": [
      "📱 Zibah's Phone\n",
      "   Battery: 41% [████████············]\n",
      "   Balance: $761.00\n",
      "   Data:    3530MB\n"
     ]
    }
   ],
   "source": [
    "my_phone.status()"
   ]
  },
  {
   "cell_type": "code",
   "execution_count": 8,
   "id": "bdec1723-4487-47d8-9013-1af61d14c05c",
   "metadata": {},
   "outputs": [
    {
     "name": "stdout",
     "output_type": "stream",
     "text": [
      "🌐 Browsed 6 min (heavy). Used 120MB, 12% battery. Data: 3410MB | Battery: 29% [██████··············]\n"
     ]
    }
   ],
   "source": [
    "my_phone.browse(6, profile=\"heavy\") "
   ]
  },
  {
   "cell_type": "code",
   "execution_count": 9,
   "id": "2c9f841d-a1c1-4c3c-b0e4-1d874e3169d7",
   "metadata": {},
   "outputs": [
    {
     "name": "stdout",
     "output_type": "stream",
     "text": [
      "🔌 Charging... Battery: 49% [██████████··········]\n"
     ]
    }
   ],
   "source": [
    "my_phone.charge(minutes=20)"
   ]
  },
  {
   "cell_type": "code",
   "execution_count": 10,
   "id": "be5b281c-fe7e-4a00-a143-52922fbd0321",
   "metadata": {},
   "outputs": [
    {
     "name": "stdout",
     "output_type": "stream",
     "text": [
      "🔌 Charging... Battery: 79% [████████████████····]\n"
     ]
    }
   ],
   "source": [
    "my_phone.charge(percent=30)"
   ]
  },
  {
   "cell_type": "code",
   "execution_count": 11,
   "id": "47d3820c-6c05-40a4-a0a9-951eb8a5fbd2",
   "metadata": {},
   "outputs": [
    {
     "name": "stdout",
     "output_type": "stream",
     "text": [
      "📱 Zibah's Phone\n",
      "   Battery: 79% [████████████████····]\n",
      "   Balance: $761.00\n",
      "   Data:    3410MB\n"
     ]
    }
   ],
   "source": [
    "my_phone.status()"
   ]
  },
  {
   "cell_type": "code",
   "execution_count": 12,
   "id": "4eb21f8b-63e9-4a4b-9cdf-d12579a8ecc1",
   "metadata": {},
   "outputs": [
    {
     "name": "stdout",
     "output_type": "stream",
     "text": [
      "🔌 Charging... Battery: 84% [█████████████████···]\n"
     ]
    }
   ],
   "source": [
    "my_phone.charge(minutes=5, percent=10)"
   ]
  },
  {
   "cell_type": "code",
   "execution_count": 13,
   "id": "b9aa6dbd-f235-4e6e-84d6-d3ac1a916fa8",
   "metadata": {},
   "outputs": [
    {
     "name": "stdout",
     "output_type": "stream",
     "text": [
      "📱 Zibah's Phone\n",
      "   Battery: 84% [█████████████████···]\n",
      "   Balance: $761.00\n",
      "   Data:    3410MB\n"
     ]
    }
   ],
   "source": [
    "my_phone.status()"
   ]
  },
  {
   "cell_type": "code",
   "execution_count": null,
   "id": "261a48e2-bb0b-4f90-9b96-d4b1356f6fbb",
   "metadata": {},
   "outputs": [],
   "source": []
  },
  {
   "cell_type": "code",
   "execution_count": null,
   "id": "3fd1e5a7-f0db-4b24-8ee5-34037e1d1b1a",
   "metadata": {},
   "outputs": [],
   "source": []
  },
  {
   "cell_type": "code",
   "execution_count": null,
   "id": "0018633e-7f63-42d7-9176-458f8441c46e",
   "metadata": {},
   "outputs": [],
   "source": []
  },
  {
   "cell_type": "code",
   "execution_count": null,
   "id": "243b10b8-c7ba-4bd6-805b-4aa7dd4f44c7",
   "metadata": {},
   "outputs": [],
   "source": []
  }
 ],
 "metadata": {
  "kernelspec": {
   "display_name": "Python 3 (ipykernel)",
   "language": "python",
   "name": "python3"
  },
  "language_info": {
   "codemirror_mode": {
    "name": "ipython",
    "version": 3
   },
   "file_extension": ".py",
   "mimetype": "text/x-python",
   "name": "python",
   "nbconvert_exporter": "python",
   "pygments_lexer": "ipython3",
   "version": "3.13.5"
  }
 },
 "nbformat": 4,
 "nbformat_minor": 5
}
